{
 "cells": [
  {
   "cell_type": "code",
   "execution_count": 1,
   "id": "a9981c93-ebee-463f-b2b9-c4f08b024c03",
   "metadata": {},
   "outputs": [],
   "source": [
    "# ipynb -- notebook(Intractive python notebook)\n",
    "# py -- python scripts"
   ]
  },
  {
   "cell_type": "code",
   "execution_count": 2,
   "id": "68a71106-8a84-4ae8-b639-8d4f1e5192be",
   "metadata": {},
   "outputs": [],
   "source": [
    "#Datatypes()\n",
    "# Numeric -- int,float(decimal values)\n",
    "# String --Sequence of characters, has to be enclosed with single or double quotes.\n",
    "# Boolean -- True(1) false(0)"
   ]
  },
  {
   "cell_type": "code",
   "execution_count": 3,
   "id": "f4dc9458-e70f-4c96-8309-16fe7be6bcb6",
   "metadata": {},
   "outputs": [
    {
     "name": "stdout",
     "output_type": "stream",
     "text": [
      "Data mites\n"
     ]
    }
   ],
   "source": [
    "# = assignment operator \n",
    "var = 20\n",
    "var1 = \"Data mites\"\n",
    "var3 = \"This is my first day\"\n",
    "var4 = 10.3\n",
    "# calling the variable(used for further tasks)\n",
    "var4\n",
    "# printing the variable(to visualize the variable)\n",
    "print(var1)"
   ]
  },
  {
   "cell_type": "code",
   "execution_count": 8,
   "id": "3013926a-f3ff-4a3f-b4d0-46dd82eff3df",
   "metadata": {},
   "outputs": [
    {
     "data": {
      "text/plain": [
       "20"
      ]
     },
     "execution_count": 8,
     "metadata": {},
     "output_type": "execute_result"
    }
   ],
   "source": [
    "var1 = 10 \n",
    "var1 = 20 # op= 10,20\n",
    "var1"
   ]
  },
  {
   "cell_type": "code",
   "execution_count": 9,
   "id": "b9f5e0b3-c22d-4b08-95e4-8227f11580c0",
   "metadata": {},
   "outputs": [
    {
     "name": "stdout",
     "output_type": "stream",
     "text": [
      "hages 20 IT\n"
     ]
    }
   ],
   "source": [
    "# Multiple assignment\n",
    "name,age,dep= 'Hages', 20, 'IT'\n",
    "print(name,age,dep)"
   ]
  },
  {
   "cell_type": "code",
   "execution_count": 46,
   "id": "28f3000d-ab2b-491f-a239-14bdc590f0ef",
   "metadata": {},
   "outputs": [
    {
     "name": "stdout",
     "output_type": "stream",
     "text": [
      "50\n"
     ]
    }
   ],
   "source": [
    "# Multiple equal assignment\n",
    "T_mark=E_mark=M_mark=50\n",
    "print(E_mark)"
   ]
  },
  {
   "cell_type": "code",
   "execution_count": 17,
   "id": "c932bd99-f549-4705-9c14-14e62eee61a7",
   "metadata": {},
   "outputs": [
    {
     "name": "stdout",
     "output_type": "stream",
     "text": [
      "7\n",
      "3\n",
      "10\n",
      "2.5\n",
      "2\n",
      "1\n",
      "25\n"
     ]
    }
   ],
   "source": [
    "num1 =5\n",
    "num2 = 2\n",
    "print(num1+num2)\n",
    "print(num1-num2)\n",
    "print(num1*num2)\n",
    "print(num1/num2)\n",
    "print(num1//num2)\n",
    "print(num1%num2)\n",
    "print(num1**num2)"
   ]
  },
  {
   "cell_type": "code",
   "execution_count": 18,
   "id": "d9117fcc-ef23-4991-a04e-08ca75d51195",
   "metadata": {},
   "outputs": [
    {
     "data": {
      "text/plain": [
       "25"
      ]
     },
     "execution_count": 18,
     "metadata": {},
     "output_type": "execute_result"
    }
   ],
   "source": [
    "5**2 # Squaring the number"
   ]
  },
  {
   "cell_type": "code",
   "execution_count": 19,
   "id": "b3aef2b6-1da9-4711-8761-dbf746665f3a",
   "metadata": {},
   "outputs": [
    {
     "name": "stdout",
     "output_type": "stream",
     "text": [
      "50\n"
     ]
    }
   ],
   "source": [
    "# Area of Rectangle\n",
    "len =10 \n",
    "bre =5\n",
    "area =len*bre\n",
    "print(area)"
   ]
  },
  {
   "cell_type": "code",
   "execution_count": 21,
   "id": "0752a4d5-72aa-49d5-8b95-234c8d4a0fdc",
   "metadata": {},
   "outputs": [
    {
     "name": "stdout",
     "output_type": "stream",
     "text": [
      "62.800000000000004\n"
     ]
    }
   ],
   "source": [
    "# Area of Circle (2*pi*r**2)\n",
    "pi,r=3.14,10\n",
    "cir=2*pi*r\n",
    "print(cir)"
   ]
  },
  {
   "cell_type": "code",
   "execution_count": 24,
   "id": "0addf43f-3548-469d-b323-9b73bd03f59c",
   "metadata": {},
   "outputs": [
    {
     "name": "stdout",
     "output_type": "stream",
     "text": [
      "418.66666666666663\n"
     ]
    }
   ],
   "source": [
    "# Ares of Speare (4/3*pi*(r**2)) \n",
    "pi=3.14\n",
    "r=10\n",
    "speare=(4/3)*pi*(r**2)\n",
    "print(speare)"
   ]
  },
  {
   "cell_type": "code",
   "execution_count": 28,
   "id": "73c78e84-c0b6-48a4-b4c6-a6ee4a1d15a0",
   "metadata": {},
   "outputs": [
    {
     "name": "stdout",
     "output_type": "stream",
     "text": [
      "360\n"
     ]
    }
   ],
   "source": [
    "#Converting hrs to min\n",
    "hr=6\n",
    "minu=60\n",
    "print(hr*minu)"
   ]
  },
  {
   "cell_type": "code",
   "execution_count": 3,
   "id": "e68a1793-5fe6-4458-bbd1-769e252e0266",
   "metadata": {},
   "outputs": [
    {
     "name": "stdout",
     "output_type": "stream",
     "text": [
      "6.0\n"
     ]
    }
   ],
   "source": [
    "#Convering meters to kilometers\n",
    "meters = 6000\n",
    "km=meters/1000\n",
    "print(km)\n"
   ]
  },
  {
   "cell_type": "code",
   "execution_count": 2,
   "id": "45569496-3f98-43b0-b382-5e50483f1e92",
   "metadata": {},
   "outputs": [
    {
     "data": {
      "text/plain": [
       "155000.0"
      ]
     },
     "execution_count": 2,
     "metadata": {},
     "output_type": "execute_result"
    }
   ],
   "source": [
    "#BMI (Body Mass Index) = weight in kg/(height in meters)**2\n",
    "weight,height=50,155\n",
    "h_to_m=height/100\n",
    "h_to_m\n"
   ]
  },
  {
   "cell_type": "code",
   "execution_count": 45,
   "id": "b5ad07af-e182-4b8c-a6c6-6ebe45863572",
   "metadata": {},
   "outputs": [
    {
     "data": {
      "text/plain": [
       "20.811654526534856"
      ]
     },
     "execution_count": 45,
     "metadata": {},
     "output_type": "execute_result"
    }
   ],
   "source": [
    "bmi=weight/h_to_m**2\n",
    "bmi"
   ]
  },
  {
   "cell_type": "code",
   "execution_count": 40,
   "id": "25e75b20-5fcd-4209-b952-bfcc122d3fa1",
   "metadata": {},
   "outputs": [
    {
     "name": "stdout",
     "output_type": "stream",
     "text": [
      "475.0\n"
     ]
    }
   ],
   "source": [
    "price=500\n",
    "dis = price*5/100 # finding discount for 5%\n",
    "print(price-dis)"
   ]
  },
  {
   "cell_type": "code",
   "execution_count": null,
   "id": "bcb450e4-2da1-4463-9378-51861dac9382",
   "metadata": {},
   "outputs": [],
   "source": []
  }
 ],
 "metadata": {
  "kernelspec": {
   "display_name": "Python 3 (ipykernel)",
   "language": "python",
   "name": "python3"
  },
  "language_info": {
   "codemirror_mode": {
    "name": "ipython",
    "version": 3
   },
   "file_extension": ".py",
   "mimetype": "text/x-python",
   "name": "python",
   "nbconvert_exporter": "python",
   "pygments_lexer": "ipython3",
   "version": "3.12.7"
  }
 },
 "nbformat": 4,
 "nbformat_minor": 5
}
