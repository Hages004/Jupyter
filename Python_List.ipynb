{
 "cells": [
  {
   "cell_type": "code",
   "execution_count": 1,
   "id": "5a25aa22-8098-4727-91ad-5dcb4e57a1b4",
   "metadata": {},
   "outputs": [],
   "source": [
    "## DATA STRUCTURES (LIST)"
   ]
  },
  {
   "cell_type": "code",
   "execution_count": 2,
   "id": "c14084c8-14aa-4732-8879-fd844f7f9e8e",
   "metadata": {},
   "outputs": [],
   "source": [
    "## List is the DS that stores collection of elements in an specific order. And it shoud be denoted using square brackets []. \n",
    "## It supports both homogenous and hetrogenous data type homogenous is elements of same data type where as hetrogenous elements of different datatypes\n",
    "## Homogenous [1,2,3,4,5] and Hetrogenous['name',25,'IT']\n",
    "## List is ordered and mutable"
   ]
  },
  {
   "cell_type": "code",
   "execution_count": 84,
   "id": "ec535060-cf73-42ab-96bb-5e6e171077c6",
   "metadata": {},
   "outputs": [],
   "source": [
    "## To create a List\n",
    "list1=[]"
   ]
  },
  {
   "cell_type": "code",
   "execution_count": 85,
   "id": "35d88c2e-08ad-4443-9ddb-bd1c2bcdea0a",
   "metadata": {},
   "outputs": [],
   "source": [
    "## Append --> Adds only 1 in the list at the end of the list \n",
    "## Extend  --> Add more than one element in the List at the end of the list.\n",
    "## Insert --> Adding elements at specific positions"
   ]
  },
  {
   "cell_type": "code",
   "execution_count": 86,
   "id": "437bcade-7943-4e96-98e2-232201d612e3",
   "metadata": {},
   "outputs": [
    {
     "data": {
      "text/plain": [
       "['Electronics']"
      ]
     },
     "execution_count": 86,
     "metadata": {},
     "output_type": "execute_result"
    }
   ],
   "source": [
    "list1.append(\"Electronics\")\n",
    "list1"
   ]
  },
  {
   "cell_type": "code",
   "execution_count": 87,
   "id": "1fed5c7c-39ee-4921-8ee1-9c7688aa7d8e",
   "metadata": {},
   "outputs": [
    {
     "data": {
      "text/plain": [
       "['Electronics', 'IT', 'CSE']"
      ]
     },
     "execution_count": 87,
     "metadata": {},
     "output_type": "execute_result"
    }
   ],
   "source": [
    "list1.extend(['IT','CSE'])\n",
    "list1"
   ]
  },
  {
   "cell_type": "code",
   "execution_count": 88,
   "id": "00c5629a-e1cd-4f0b-b903-1a3782672e46",
   "metadata": {},
   "outputs": [
    {
     "data": {
      "text/plain": [
       "'CSE'"
      ]
     },
     "execution_count": 88,
     "metadata": {},
     "output_type": "execute_result"
    }
   ],
   "source": [
    "list1[2] ## Extracting a particular element"
   ]
  },
  {
   "cell_type": "code",
   "execution_count": 89,
   "id": "981a7cd7-b584-4119-8cff-9f840c563cc4",
   "metadata": {},
   "outputs": [
    {
     "data": {
      "text/plain": [
       "'Electronics'"
      ]
     },
     "execution_count": 89,
     "metadata": {},
     "output_type": "execute_result"
    }
   ],
   "source": [
    "list1[-3] ## In positive--> list1[]"
   ]
  },
  {
   "cell_type": "code",
   "execution_count": 91,
   "id": "a44afaac-f1af-4494-92f5-83dc6cdd3392",
   "metadata": {},
   "outputs": [
    {
     "data": {
      "text/plain": [
       "'S'"
      ]
     },
     "execution_count": 91,
     "metadata": {},
     "output_type": "execute_result"
    }
   ],
   "source": [
    "list1[2][1] #To extract a paricular element's character"
   ]
  },
  {
   "cell_type": "code",
   "execution_count": 92,
   "id": "444c43fb-b031-44ed-940c-007cba502dfd",
   "metadata": {},
   "outputs": [
    {
     "data": {
      "text/plain": [
       "3"
      ]
     },
     "execution_count": 92,
     "metadata": {},
     "output_type": "execute_result"
    }
   ],
   "source": [
    "len(list1) # To get the total elements in list"
   ]
  },
  {
   "cell_type": "code",
   "execution_count": 93,
   "id": "b7dba253-b46c-4f78-b003-bb5dbcf7aecd",
   "metadata": {},
   "outputs": [
    {
     "data": {
      "text/plain": [
       "['Electronics', 'IT', 'Bio', 'CSE']"
      ]
     },
     "execution_count": 93,
     "metadata": {},
     "output_type": "execute_result"
    }
   ],
   "source": [
    "list1.insert(2,\"Bio\") # To insert a element in an particular element in a particular index \n",
    "list1"
   ]
  },
  {
   "cell_type": "code",
   "execution_count": 94,
   "id": "133a5421-3a8b-4662-8f08-a503ed1eb6ed",
   "metadata": {},
   "outputs": [
    {
     "data": {
      "text/plain": [
       "['Electronics', 'Bio', 'CSE']"
      ]
     },
     "execution_count": 94,
     "metadata": {},
     "output_type": "execute_result"
    }
   ],
   "source": [
    "list1.remove(\"IT\") # Remove an element from the list.\n",
    "list1"
   ]
  },
  {
   "cell_type": "code",
   "execution_count": 95,
   "id": "a0272364-5468-4306-9a0f-bace98a55af0",
   "metadata": {},
   "outputs": [
    {
     "data": {
      "text/plain": [
       "['Electronics', 'CSE']"
      ]
     },
     "execution_count": 95,
     "metadata": {},
     "output_type": "execute_result"
    }
   ],
   "source": [
    "list1.pop(1) # Removes the element at the end\n",
    "list1"
   ]
  },
  {
   "cell_type": "code",
   "execution_count": 126,
   "id": "2ddfd100-bbca-479e-b082-faf85c03f871",
   "metadata": {},
   "outputs": [
    {
     "data": {
      "text/plain": [
       "['Bio', 'EEE', 'ele']"
      ]
     },
     "execution_count": 126,
     "metadata": {},
     "output_type": "execute_result"
    }
   ],
   "source": [
    "list2=[\"ele\",\"Bio\",\"EEE\"]# Returns in accending order in uppercase to lower case\n",
    "list2.sort() # Default value sort(reverse=False)\n",
    "list2"
   ]
  },
  {
   "cell_type": "code",
   "execution_count": 127,
   "id": "9ac7f252-3503-42db-a41b-dc096c508c5c",
   "metadata": {},
   "outputs": [
    {
     "data": {
      "text/plain": [
       "['ele', 'EEE', 'Bio']"
      ]
     },
     "execution_count": 127,
     "metadata": {},
     "output_type": "execute_result"
    }
   ],
   "source": [
    "list2.sort(reverse=True) # Returns in decending order\n",
    "list2"
   ]
  },
  {
   "cell_type": "code",
   "execution_count": 128,
   "id": "b976660b-c77d-4289-af15-787d48a2d510",
   "metadata": {},
   "outputs": [
    {
     "data": {
      "text/plain": [
       "[]"
      ]
     },
     "execution_count": 128,
     "metadata": {},
     "output_type": "execute_result"
    }
   ],
   "source": [
    "list2=list1.copy() # To copy the list1 to list2 eventhough list2 has element in it\n",
    "list2"
   ]
  },
  {
   "cell_type": "code",
   "execution_count": 129,
   "id": "871fa7a6-eb6b-413a-838c-e981bf4c238a",
   "metadata": {},
   "outputs": [
    {
     "data": {
      "text/plain": [
       "['Mech']"
      ]
     },
     "execution_count": 129,
     "metadata": {},
     "output_type": "execute_result"
    }
   ],
   "source": [
    "list2.append(\"Mech\")\n",
    "list2"
   ]
  },
  {
   "cell_type": "code",
   "execution_count": 130,
   "id": "abd7aec1-fbb8-46d6-8780-c22e9c887b0b",
   "metadata": {},
   "outputs": [
    {
     "data": {
      "text/plain": [
       "['Mech']"
      ]
     },
     "execution_count": 130,
     "metadata": {},
     "output_type": "execute_result"
    }
   ],
   "source": [
    "list3=list2[::2]\n",
    "list3"
   ]
  },
  {
   "cell_type": "code",
   "execution_count": 131,
   "id": "6103eca9-870b-446d-bc6d-4b99e8114196",
   "metadata": {},
   "outputs": [
    {
     "data": {
      "text/plain": [
       "['Mech']"
      ]
     },
     "execution_count": 131,
     "metadata": {},
     "output_type": "execute_result"
    }
   ],
   "source": [
    "list2[::-1] # Reverse the entire list \n",
    "list2"
   ]
  },
  {
   "cell_type": "code",
   "execution_count": 132,
   "id": "d362cdc8-e6a5-4286-898b-042122ca5bd5",
   "metadata": {},
   "outputs": [
    {
     "data": {
      "text/plain": [
       "[]"
      ]
     },
     "execution_count": 132,
     "metadata": {},
     "output_type": "execute_result"
    }
   ],
   "source": [
    "del list2 # Deleting the list\n",
    "list1"
   ]
  },
  {
   "cell_type": "code",
   "execution_count": 115,
   "id": "423058e3-5d4a-4327-b0a5-61cc321f28ed",
   "metadata": {},
   "outputs": [
    {
     "data": {
      "text/plain": [
       "[]"
      ]
     },
     "execution_count": 115,
     "metadata": {},
     "output_type": "execute_result"
    }
   ],
   "source": [
    "list1.clear() # Deleting all the elements form the list\n",
    "list1"
   ]
  },
  {
   "cell_type": "code",
   "execution_count": 135,
   "id": "173c7536-9d2b-4dee-8b94-cd34b6834036",
   "metadata": {},
   "outputs": [
    {
     "data": {
      "text/plain": [
       "[1, 2, 3, 4, 5, 5, 6, 7, 8, 9, 10]"
      ]
     },
     "execution_count": 135,
     "metadata": {},
     "output_type": "execute_result"
    }
   ],
   "source": [
    "## To join 2 lists using \"+\" operator.\n",
    "list1=[1,2,3,4,5]\n",
    "list2=[6,7,8,9,10]\n",
    "list3=list1+list2\n",
    "list3"
   ]
  },
  {
   "cell_type": "code",
   "execution_count": 139,
   "id": "ba5539e5-4ea9-4868-8ef6-d0c7e1796eaa",
   "metadata": {},
   "outputs": [
    {
     "data": {
      "text/plain": [
       "[75, 80, 90, False, 'data', 'datamites']"
      ]
     },
     "execution_count": 139,
     "metadata": {},
     "output_type": "execute_result"
    }
   ],
   "source": [
    "m_list=[90,80,75,'data',False,'datamites']\n",
    "n_list=sorted(m_list,key=str)\n",
    "n_list # the entire list will be converted to string cause of using key=str, it follows numbers,uppercase and lowercase"
   ]
  },
  {
   "cell_type": "code",
   "execution_count": 143,
   "id": "b3b7ad6b-a829-437e-ba12-c7aec465eb0a",
   "metadata": {},
   "outputs": [
    {
     "data": {
      "text/plain": [
       "['diya', 'neha', 'baru', 'shri', 'bars', 'thiyaga']"
      ]
     },
     "execution_count": 143,
     "metadata": {},
     "output_type": "execute_result"
    }
   ],
   "source": [
    "names=['diya','neha','baru','thiyaga','shri','bars']\n",
    "n_names=sorted(names,key=len)\n",
    "n_names\n"
   ]
  },
  {
   "cell_type": "code",
   "execution_count": 144,
   "id": "52be3b3b-bf6f-4f92-a9a0-a540e2452e39",
   "metadata": {},
   "outputs": [
    {
     "name": "stdout",
     "output_type": "stream",
     "text": [
      "6\n",
      "1\n",
      "21\n"
     ]
    }
   ],
   "source": [
    "## Inbuild mehods in the list\n",
    "## max,min,sum\n",
    "num=[1,2,3,4,5,6]\n",
    "print(max(num))\n",
    "print(min(num))\n",
    "print(sum(num))"
   ]
  },
  {
   "cell_type": "code",
   "execution_count": 2,
   "id": "0823593d-81cf-45de-8076-bec1a1612868",
   "metadata": {},
   "outputs": [
    {
     "data": {
      "text/plain": [
       "[[1, 2, 3], [5, 2, 7], [8, 9, 10]]"
      ]
     },
     "execution_count": 2,
     "metadata": {},
     "output_type": "execute_result"
    }
   ],
   "source": [
    "## NESTED LIST\n",
    "## List within a list is called as nested list\n",
    "matrix=[[1,2,3],[5,2,7],[8,9,10]] # nested list comes under 2D form\n",
    "matrix"
   ]
  },
  {
   "cell_type": "code",
   "execution_count": 3,
   "id": "9663111c-e607-491a-a8ec-cfd8503e9668",
   "metadata": {},
   "outputs": [
    {
     "data": {
      "text/plain": [
       "[[1, 2, 3], [5, 2, 7], [8, 9, 10], [11, 12, 13]]"
      ]
     },
     "execution_count": 3,
     "metadata": {},
     "output_type": "execute_result"
    }
   ],
   "source": [
    "matrix.append([11,12,13])\n",
    "matrix"
   ]
  },
  {
   "cell_type": "code",
   "execution_count": 4,
   "id": "aad5e036-38d4-48e0-b926-50a3cb10cd91",
   "metadata": {},
   "outputs": [
    {
     "data": {
      "text/plain": [
       "[[1, 2, 3], [5, 2, 7], [8, 9, 10], [11, 12, 13], 15, 16]"
      ]
     },
     "execution_count": 4,
     "metadata": {},
     "output_type": "execute_result"
    }
   ],
   "source": [
    "matrix.extend([15,16]) # Individually the values will be added\n",
    "matrix"
   ]
  },
  {
   "cell_type": "code",
   "execution_count": 5,
   "id": "fa853bc1-3f36-460d-b45e-f6aa146577ff",
   "metadata": {},
   "outputs": [
    {
     "data": {
      "text/plain": [
       "[[1, 2, 3], [5, 2, 7], [8, 9, 10], [11, 12, 13], 15]"
      ]
     },
     "execution_count": 5,
     "metadata": {},
     "output_type": "execute_result"
    }
   ],
   "source": [
    "matrix.pop()\n",
    "matrix"
   ]
  },
  {
   "cell_type": "code",
   "execution_count": 6,
   "id": "dcd600d4-01b7-4db4-9ff7-5e21d55762e6",
   "metadata": {},
   "outputs": [
    {
     "data": {
      "text/plain": [
       "[[1, 2, 3], [5, 2, 7], [8, 9, 10], [9.5, 10.5, 11.5], [11, 12, 13], 15]"
      ]
     },
     "execution_count": 6,
     "metadata": {},
     "output_type": "execute_result"
    }
   ],
   "source": [
    "matrix.insert(3,[9.5,10.5,11.5])\n",
    "matrix"
   ]
  },
  {
   "cell_type": "code",
   "execution_count": null,
   "id": "55af6390-2d66-4174-8262-3643e742092d",
   "metadata": {},
   "outputs": [],
   "source": []
  }
 ],
 "metadata": {
  "kernelspec": {
   "display_name": "Python 3 (ipykernel)",
   "language": "python",
   "name": "python3"
  },
  "language_info": {
   "codemirror_mode": {
    "name": "ipython",
    "version": 3
   },
   "file_extension": ".py",
   "mimetype": "text/x-python",
   "name": "python",
   "nbconvert_exporter": "python",
   "pygments_lexer": "ipython3",
   "version": "3.12.7"
  }
 },
 "nbformat": 4,
 "nbformat_minor": 5
}
