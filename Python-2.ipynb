{
 "cells": [
  {
   "cell_type": "code",
   "execution_count": 1,
   "id": "19affebd-eb0e-49dc-95c6-bc2f1f702168",
   "metadata": {},
   "outputs": [],
   "source": [
    "#BOOLEAN DATA TYPE"
   ]
  },
  {
   "cell_type": "code",
   "execution_count": 2,
   "id": "f0a61a53-f1ca-4184-bc14-bc4bd89ed935",
   "metadata": {},
   "outputs": [
    {
     "data": {
      "text/plain": [
       "bool"
      ]
     },
     "execution_count": 2,
     "metadata": {},
     "output_type": "execute_result"
    }
   ],
   "source": [
    "var1 = True\n",
    "var2 = False\n",
    "type(var1)"
   ]
  },
  {
   "cell_type": "code",
   "execution_count": 3,
   "id": "d694e1a7-d9f5-430a-9f93-667fa5af4ead",
   "metadata": {},
   "outputs": [
    {
     "data": {
      "text/plain": [
       "False"
      ]
     },
     "execution_count": 3,
     "metadata": {},
     "output_type": "execute_result"
    }
   ],
   "source": [
    "bool(0)"
   ]
  },
  {
   "cell_type": "code",
   "execution_count": 4,
   "id": "81e4fae7-10f2-4cc5-bbb8-4dd4f958f2e4",
   "metadata": {},
   "outputs": [
    {
     "data": {
      "text/plain": [
       "True"
      ]
     },
     "execution_count": 4,
     "metadata": {},
     "output_type": "execute_result"
    }
   ],
   "source": [
    "bool(-56) # Any number apart form 0 everything is true"
   ]
  },
  {
   "cell_type": "code",
   "execution_count": 5,
   "id": "a6a845e6-72ea-450c-9626-591fccb15b7a",
   "metadata": {},
   "outputs": [
    {
     "data": {
      "text/plain": [
       "True"
      ]
     },
     "execution_count": 5,
     "metadata": {},
     "output_type": "execute_result"
    }
   ],
   "source": [
    "bool(56)"
   ]
  },
  {
   "cell_type": "code",
   "execution_count": 6,
   "id": "143b05a1-98d9-4328-a993-c30cbd3b4308",
   "metadata": {},
   "outputs": [],
   "source": [
    "## STRINGS ##"
   ]
  },
  {
   "cell_type": "code",
   "execution_count": 7,
   "id": "8a290b84-f84e-4c37-b34c-3aebd45b89cf",
   "metadata": {},
   "outputs": [
    {
     "name": "stdout",
     "output_type": "stream",
     "text": [
      "Hello world\n"
     ]
    }
   ],
   "source": [
    "mystr=\"Hello world\"\n",
    "print(mystr)"
   ]
  },
  {
   "cell_type": "code",
   "execution_count": 8,
   "id": "d05da986-545d-458b-a118-b83af8b2e905",
   "metadata": {},
   "outputs": [],
   "source": [
    "## STRING OPERATIONS ##"
   ]
  },
  {
   "cell_type": "code",
   "execution_count": 11,
   "id": "aae20eec-230c-4e3d-8b7a-77b54d1f436b",
   "metadata": {},
   "outputs": [
    {
     "name": "stdout",
     "output_type": "stream",
     "text": [
      "data mites\n"
     ]
    }
   ],
   "source": [
    "# Concatination (Combination of two strings (+))\n",
    "first= \"data\"\n",
    "last=\"mites\"\n",
    "print(first+\" \" +last) # Can provide manual space if needed"
   ]
  },
  {
   "cell_type": "code",
   "execution_count": 16,
   "id": "3e724aae-1dec-4778-bc2a-c3ef01a17d79",
   "metadata": {},
   "outputs": [
    {
     "name": "stdout",
     "output_type": "stream",
     "text": [
      "Name:Hages\n"
     ]
    }
   ],
   "source": [
    "key=\"Name\"\n",
    "value= \"Hages\"\n",
    "print(key + \":\" + value) # Can use any special characters in between "
   ]
  },
  {
   "cell_type": "code",
   "execution_count": 14,
   "id": "d553d15f-470c-49c9-bfc2-597fb01b7fbe",
   "metadata": {},
   "outputs": [
    {
     "name": "stdout",
     "output_type": "stream",
     "text": [
      "HagesHagesHages\n"
     ]
    }
   ],
   "source": [
    "# Repetation operator (*)\n",
    "name=\"Hages\"\n",
    "print(name*3)"
   ]
  },
  {
   "cell_type": "code",
   "execution_count": 15,
   "id": "d667dbc5-6a5c-4989-97d1-dd36ab21365c",
   "metadata": {},
   "outputs": [
    {
     "name": "stdout",
     "output_type": "stream",
     "text": [
      "5\n"
     ]
    }
   ],
   "source": [
    "# to return the len of the string in the variable (len)\n",
    "name=\"Hages\"\n",
    "print(len(name))"
   ]
  },
  {
   "cell_type": "code",
   "execution_count": 50,
   "id": "11883e53-6616-44e4-bdfb-d975b4a0b924",
   "metadata": {},
   "outputs": [
    {
     "data": {
      "text/plain": [
       "'M'"
      ]
     },
     "execution_count": 50,
     "metadata": {},
     "output_type": "execute_result"
    }
   ],
   "source": [
    "# INDEXING, Accessing a single character form the string \n",
    "name=\"DATAMITES\"\n",
    "# positive index starts form 0, negative index starts from -1 in reverse\n",
    "name[len(name)-5]"
   ]
  },
  {
   "cell_type": "code",
   "execution_count": 32,
   "id": "e20e5e57-3200-4364-8647-4c3126dad490",
   "metadata": {},
   "outputs": [
    {
     "data": {
      "text/plain": [
       "'TES'"
      ]
     },
     "execution_count": 32,
     "metadata": {},
     "output_type": "execute_result"
    }
   ],
   "source": [
    "#Slicing \n",
    "## Inorder to extract more than one character [start:stop:step]\n",
    "## Default value of  start=0 step=1\n",
    "name[6::1]"
   ]
  },
  {
   "cell_type": "code",
   "execution_count": 38,
   "id": "ca6aa3ae-4965-4b3d-b75e-fd5f39e6340c",
   "metadata": {},
   "outputs": [
    {
     "data": {
      "text/plain": [
       "'MTS'"
      ]
     },
     "execution_count": 38,
     "metadata": {},
     "output_type": "execute_result"
    }
   ],
   "source": [
    "name[-5::2] # by default it will render the character till the end"
   ]
  },
  {
   "cell_type": "code",
   "execution_count": 39,
   "id": "a5cb6abd-2992-4701-afe4-29d1f23b561b",
   "metadata": {},
   "outputs": [
    {
     "data": {
      "text/plain": [
       "'DATAMITES'"
      ]
     },
     "execution_count": 39,
     "metadata": {},
     "output_type": "execute_result"
    }
   ],
   "source": [
    "name[::] # or name[:]"
   ]
  },
  {
   "cell_type": "code",
   "execution_count": 40,
   "id": "ab3e6060-c5ba-4864-997a-9838e27c3a10",
   "metadata": {},
   "outputs": [
    {
     "data": {
      "text/plain": [
       "'TIM'"
      ]
     },
     "execution_count": 40,
     "metadata": {},
     "output_type": "execute_result"
    }
   ],
   "source": [
    "# In reverse\n",
    "name[-3:-6:-1]"
   ]
  },
  {
   "cell_type": "code",
   "execution_count": 41,
   "id": "0afb10d5-7df6-4504-a282-ca5e930f2009",
   "metadata": {},
   "outputs": [
    {
     "data": {
      "text/plain": [
       "'TAD'"
      ]
     },
     "execution_count": 41,
     "metadata": {},
     "output_type": "execute_result"
    }
   ],
   "source": [
    "name[-7::-1]"
   ]
  },
  {
   "cell_type": "code",
   "execution_count": 42,
   "id": "abf0d584-a18a-47db-9060-7b7419233247",
   "metadata": {},
   "outputs": [
    {
     "data": {
      "text/plain": [
       "'TAD'"
      ]
     },
     "execution_count": 42,
     "metadata": {},
     "output_type": "execute_result"
    }
   ],
   "source": [
    "name[2::-1]"
   ]
  },
  {
   "cell_type": "code",
   "execution_count": 43,
   "id": "fed8a6ad-8b9c-4686-942d-d2470b8edc68",
   "metadata": {},
   "outputs": [
    {
     "data": {
      "text/plain": [
       "'SIT'"
      ]
     },
     "execution_count": 43,
     "metadata": {},
     "output_type": "execute_result"
    }
   ],
   "source": [
    "name[:-8:-3]"
   ]
  },
  {
   "cell_type": "code",
   "execution_count": 57,
   "id": "17973e54-3717-4e2d-81c2-f2d5dcc71c9d",
   "metadata": {},
   "outputs": [
    {
     "name": "stdout",
     "output_type": "stream",
     "text": [
      "Hages 20\n"
     ]
    }
   ],
   "source": [
    "## FORMATTING used inorder to support multiple datatype \n",
    "name=\"Hages\"\n",
    "age=\"20\"\n",
    "print(name+\" \"+age)"
   ]
  },
  {
   "cell_type": "code",
   "execution_count": 50,
   "id": "0752dfb9-14a0-4838-bbfd-c8d119228ef2",
   "metadata": {},
   "outputs": [
    {
     "name": "stdout",
     "output_type": "stream",
     "text": [
      "My name is Hages, my grade is 10 and my CGPA is 9.8\n"
     ]
    }
   ],
   "source": [
    "name=\"Hages\"\n",
    "grade=10\n",
    "cgpa=9.8\n",
    "print(\"My name is {}, my grade is {} and my CGPA is {}\".format(name,grade,cgpa))"
   ]
  },
  {
   "cell_type": "code",
   "execution_count": 51,
   "id": "c51b1e83-765a-46fb-a491-d62addbd46d5",
   "metadata": {},
   "outputs": [
    {
     "name": "stdout",
     "output_type": "stream",
     "text": [
      "My name is Hages, my grade is 10 and my CGPA is 9.8\n"
     ]
    }
   ],
   "source": [
    "# String inpterpolation\n",
    "print(f\"My name is {name}, my grade is {grade} and my CGPA is {cgpa}\")"
   ]
  },
  {
   "cell_type": "code",
   "execution_count": 59,
   "id": "e88eb843-b4be-43f9-be37-87d714fc250d",
   "metadata": {},
   "outputs": [
    {
     "name": "stdout",
     "output_type": "stream",
     "text": [
      "Data Mites\n"
     ]
    }
   ],
   "source": [
    "# Strip used to remove the white spaces before and afte in the string\n",
    "name=\"   Data Mites   \"\n",
    "print(name.strip())"
   ]
  },
  {
   "cell_type": "code",
   "execution_count": 60,
   "id": "ebcac430-dd7f-4d63-858e-004aa624f2d1",
   "metadata": {},
   "outputs": [
    {
     "data": {
      "text/plain": [
       "'   Data Mites'"
      ]
     },
     "execution_count": 60,
     "metadata": {},
     "output_type": "execute_result"
    }
   ],
   "source": [
    "name.rstrip() # Right strip removes the white space from the right side"
   ]
  },
  {
   "cell_type": "code",
   "execution_count": 61,
   "id": "f5158f96-2d57-4229-ae62-81e667403178",
   "metadata": {},
   "outputs": [
    {
     "data": {
      "text/plain": [
       "'Data Mites   '"
      ]
     },
     "execution_count": 61,
     "metadata": {},
     "output_type": "execute_result"
    }
   ],
   "source": [
    "name.lstrip() # Left strip removes the white space from the left side"
   ]
  },
  {
   "cell_type": "code",
   "execution_count": 67,
   "id": "9ffba318-20ea-4efa-8896-17faac39fe6e",
   "metadata": {},
   "outputs": [
    {
     "data": {
      "text/plain": [
       "('Natural Language Processing ', 'and', ' R and Python')"
      ]
     },
     "execution_count": 67,
     "metadata": {},
     "output_type": "execute_result"
    }
   ],
   "source": [
    "## String partitioning method\n",
    "str1=\"Natural Language Processing and R and Python\"\n",
    "res=str1.partition(\"and\")\n",
    "res # output return in tuple format"
   ]
  },
  {
   "cell_type": "code",
   "execution_count": 69,
   "id": "0a8c51ca-58fb-4f70-a980-601ce6992d12",
   "metadata": {},
   "outputs": [
    {
     "data": {
      "text/plain": [
       "2"
      ]
     },
     "execution_count": 69,
     "metadata": {},
     "output_type": "execute_result"
    }
   ],
   "source": [
    "str1.count(\"e\")"
   ]
  },
  {
   "cell_type": "code",
   "execution_count": 70,
   "id": "ca640430-e837-4562-be9a-9c7f58818b38",
   "metadata": {},
   "outputs": [
    {
     "data": {
      "text/plain": [
       "6"
      ]
     },
     "execution_count": 70,
     "metadata": {},
     "output_type": "execute_result"
    }
   ],
   "source": [
    "str1.count(\" \")"
   ]
  },
  {
   "cell_type": "code",
   "execution_count": 72,
   "id": "c5de7cff-685d-46e4-9047-94ff25e01fc3",
   "metadata": {},
   "outputs": [
    {
     "data": {
      "text/plain": [
       "15"
      ]
     },
     "execution_count": 72,
     "metadata": {},
     "output_type": "execute_result"
    }
   ],
   "source": [
    "str1.find(\"e\") # Finding the index"
   ]
  },
  {
   "cell_type": "code",
   "execution_count": 73,
   "id": "fb27315b-4bcf-48c1-9407-9b127c6ddc2c",
   "metadata": {},
   "outputs": [
    {
     "data": {
      "text/plain": [
       "'natural language processing and r and python'"
      ]
     },
     "execution_count": 73,
     "metadata": {},
     "output_type": "execute_result"
    }
   ],
   "source": [
    "# Lowercase and Uppercase \n",
    "str1.lower()"
   ]
  },
  {
   "cell_type": "code",
   "execution_count": 74,
   "id": "7e84b3ed-7edf-4d56-9de8-f9000a70bb3c",
   "metadata": {},
   "outputs": [
    {
     "data": {
      "text/plain": [
       "'NATURAL LANGUAGE PROCESSING AND R AND PYTHON'"
      ]
     },
     "execution_count": 74,
     "metadata": {},
     "output_type": "execute_result"
    }
   ],
   "source": [
    "str1.upper()"
   ]
  },
  {
   "cell_type": "code",
   "execution_count": 78,
   "id": "f42cae14-f6da-430a-9dc6-d0a8998a7ddf",
   "metadata": {},
   "outputs": [
    {
     "data": {
      "text/plain": [
       "['Natural', 'Language', 'Processing', 'and', 'R', 'and', 'Python']"
      ]
     },
     "execution_count": 78,
     "metadata": {},
     "output_type": "execute_result"
    }
   ],
   "source": [
    "## SPLIT Method\n",
    "res=str1.split() # OP returns in List format\n",
    "res"
   ]
  },
  {
   "cell_type": "code",
   "execution_count": 80,
   "id": "88ca8a64-047c-4f05-a921-d28a43779dd5",
   "metadata": {},
   "outputs": [
    {
     "data": {
      "text/plain": [
       "'Natural Language Processing and R and Python'"
      ]
     },
     "execution_count": 80,
     "metadata": {},
     "output_type": "execute_result"
    }
   ],
   "source": [
    "## JOIN Method\n",
    "\" \".join(res) "
   ]
  },
  {
   "cell_type": "code",
   "execution_count": 86,
   "id": "74bec5af-facc-4d0b-bb6b-b22c744d07fc",
   "metadata": {},
   "outputs": [
    {
     "data": {
      "text/plain": [
       "True"
      ]
     },
     "execution_count": 86,
     "metadata": {},
     "output_type": "execute_result"
    }
   ],
   "source": [
    "## Starts with mehtod\n",
    "str1.startswith(\"Natural\") # Can give a character or a string\n",
    "# Output returns in boolean value"
   ]
  },
  {
   "cell_type": "code",
   "execution_count": 85,
   "id": "56720e68-f475-4be8-ac3e-10092cf7bb82",
   "metadata": {},
   "outputs": [
    {
     "data": {
      "text/plain": [
       "True"
      ]
     },
     "execution_count": 85,
     "metadata": {},
     "output_type": "execute_result"
    }
   ],
   "source": [
    "## Ends with method\n",
    "str1.endswith(\"Python\") # Can give a character or a string\n",
    "# Output returns in boolean value"
   ]
  },
  {
   "cell_type": "code",
   "execution_count": 5,
   "id": "07d1b9c9-9374-41eb-8a6d-b43407da10e8",
   "metadata": {},
   "outputs": [
    {
     "data": {
      "text/plain": [
       "1"
      ]
     },
     "execution_count": 5,
     "metadata": {},
     "output_type": "execute_result"
    }
   ],
   "source": [
    "movie=\"Ghostbuster\"\n",
    "movie.find(\"h\")"
   ]
  },
  {
   "cell_type": "code",
   "execution_count": 6,
   "id": "f838f902-9be1-42e4-a77d-8823d96da17a",
   "metadata": {},
   "outputs": [
    {
     "data": {
      "text/plain": [
       "'host'"
      ]
     },
     "execution_count": 6,
     "metadata": {},
     "output_type": "execute_result"
    }
   ],
   "source": [
    "res1=movie[1:5:1]\n",
    "res1"
   ]
  },
  {
   "cell_type": "code",
   "execution_count": 7,
   "id": "916d7358-3b3a-47a3-8741-abd9a137d4fb",
   "metadata": {},
   "outputs": [
    {
     "data": {
      "text/plain": [
       "'bus'"
      ]
     },
     "execution_count": 7,
     "metadata": {},
     "output_type": "execute_result"
    }
   ],
   "source": [
    "res2=movie[5:8:1]\n",
    "res2"
   ]
  },
  {
   "cell_type": "code",
   "execution_count": 8,
   "id": "2028aae4-719e-499a-9a53-cf3a4cfdc5e3",
   "metadata": {},
   "outputs": [
    {
     "data": {
      "text/plain": [
       "'BUS'"
      ]
     },
     "execution_count": 8,
     "metadata": {},
     "output_type": "execute_result"
    }
   ],
   "source": [
    "res3=res2.upper()\n",
    "res3"
   ]
  },
  {
   "cell_type": "code",
   "execution_count": 9,
   "id": "5509e0f8-c47d-457f-b3bb-a6bb699c605f",
   "metadata": {},
   "outputs": [
    {
     "data": {
      "text/plain": [
       "('host', 'BUS')"
      ]
     },
     "execution_count": 9,
     "metadata": {},
     "output_type": "execute_result"
    }
   ],
   "source": [
    "res4=res1,res3\n",
    "res4"
   ]
  },
  {
   "cell_type": "code",
   "execution_count": 10,
   "id": "774c888d-487c-4e19-aa54-6cec4f95e13a",
   "metadata": {},
   "outputs": [
    {
     "data": {
      "text/plain": [
       "'host:BUS'"
      ]
     },
     "execution_count": 10,
     "metadata": {},
     "output_type": "execute_result"
    }
   ],
   "source": [
    "\":\".join(res4)"
   ]
  },
  {
   "cell_type": "code",
   "execution_count": 11,
   "id": "cf522515-b9f8-44d0-9621-dd54ec3d7475",
   "metadata": {},
   "outputs": [
    {
     "data": {
      "text/plain": [
       "'re'"
      ]
     },
     "execution_count": 11,
     "metadata": {},
     "output_type": "execute_result"
    }
   ],
   "source": [
    "## RETT_got\n",
    "rest1=movie[-1:-3:-1]\n",
    "rest1"
   ]
  },
  {
   "cell_type": "code",
   "execution_count": 22,
   "id": "6a2b6105-083a-4d3a-921b-501572150971",
   "metadata": {},
   "outputs": [
    {
     "data": {
      "text/plain": [
       "'tt'"
      ]
     },
     "execution_count": 22,
     "metadata": {},
     "output_type": "execute_result"
    }
   ],
   "source": [
    "rest2=movie[4:5]*2 # By default the step value will be taken as 1\n",
    "rest2"
   ]
  },
  {
   "cell_type": "code",
   "execution_count": 37,
   "id": "4dc937a1-7803-41e8-8719-1b79ae5d99ca",
   "metadata": {},
   "outputs": [
    {
     "data": {
      "text/plain": [
       "('re', 'tt')"
      ]
     },
     "execution_count": 37,
     "metadata": {},
     "output_type": "execute_result"
    }
   ],
   "source": [
    "rest3=rest1,rest2\n",
    "rest3"
   ]
  },
  {
   "cell_type": "code",
   "execution_count": 38,
   "id": "4b0d193b-2206-448c-8782-11d1076b49ab",
   "metadata": {},
   "outputs": [
    {
     "data": {
      "text/plain": [
       "'RETT'"
      ]
     },
     "execution_count": 38,
     "metadata": {},
     "output_type": "execute_result"
    }
   ],
   "source": [
    "rest4=\"\".join(rest3).upper()\n",
    "rest4"
   ]
  },
  {
   "cell_type": "code",
   "execution_count": 33,
   "id": "4c72d1fc-47ff-457f-9764-61dc5bb3cc98",
   "metadata": {},
   "outputs": [
    {
     "data": {
      "text/plain": [
       "'got'"
      ]
     },
     "execution_count": 33,
     "metadata": {},
     "output_type": "execute_result"
    }
   ],
   "source": [
    "rest6=movie[0:5:2].lower() # Ghostbuster\n",
    "rest6"
   ]
  },
  {
   "cell_type": "code",
   "execution_count": 42,
   "id": "efbb2422-1b67-44b7-9f62-7ccace1634d7",
   "metadata": {},
   "outputs": [
    {
     "data": {
      "text/plain": [
       "'RETT got'"
      ]
     },
     "execution_count": 42,
     "metadata": {},
     "output_type": "execute_result"
    }
   ],
   "source": [
    "rest7=rest5 +\" \"+rest6\n",
    "rest7"
   ]
  },
  {
   "cell_type": "code",
   "execution_count": 35,
   "id": "b9b723ae-b755-405e-b477-0605266191e5",
   "metadata": {},
   "outputs": [
    {
     "data": {
      "text/plain": [
       "'RETT_got'"
      ]
     },
     "execution_count": 35,
     "metadata": {},
     "output_type": "execute_result"
    }
   ],
   "source": [
    "\"_\".join(rest7)"
   ]
  },
  {
   "cell_type": "code",
   "execution_count": null,
   "id": "cb1c9311-79c5-4785-82f7-c1a81cc42345",
   "metadata": {},
   "outputs": [],
   "source": []
  }
 ],
 "metadata": {
  "kernelspec": {
   "display_name": "Python 3 (ipykernel)",
   "language": "python",
   "name": "python3"
  },
  "language_info": {
   "codemirror_mode": {
    "name": "ipython",
    "version": 3
   },
   "file_extension": ".py",
   "mimetype": "text/x-python",
   "name": "python",
   "nbconvert_exporter": "python",
   "pygments_lexer": "ipython3",
   "version": "3.12.7"
  }
 },
 "nbformat": 4,
 "nbformat_minor": 5
}
