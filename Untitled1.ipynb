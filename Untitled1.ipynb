{
 "cells": [
  {
   "cell_type": "code",
   "execution_count": 1,
   "id": "569a08ef-d893-40bd-9d8d-926684e74a30",
   "metadata": {},
   "outputs": [],
   "source": [
    "# Python is the high level language (language similar to human level language)"
   ]
  },
  {
   "cell_type": "code",
   "execution_count": null,
   "id": "fff40c4c-3ada-4ce6-8bc6-100c4e612613",
   "metadata": {},
   "outputs": [],
   "source": [
    "# Low lwvel language (egc,Assembly language)"
   ]
  }
 ],
 "metadata": {
  "kernelspec": {
   "display_name": "Python 3 (ipykernel)",
   "language": "python",
   "name": "python3"
  },
  "language_info": {
   "codemirror_mode": {
    "name": "ipython",
    "version": 3
   },
   "file_extension": ".py",
   "mimetype": "text/x-python",
   "name": "python",
   "nbconvert_exporter": "python",
   "pygments_lexer": "ipython3",
   "version": "3.12.7"
  }
 },
 "nbformat": 4,
 "nbformat_minor": 5
}
